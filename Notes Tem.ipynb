"dimensions": 
      1-The dimensions to which each input image will be resized to before processing
"bubbleDimensions": 
      2- The dimensions of the overlay bubble area
"preProcessors":
      1-size of the kernel to use for cropping (default for most cases)
      2-path to marker file
      3-a factor by which marker shall be resized relative to input image 
"concatenations":
      4-"concatenations":he Concatenations parameter is a way to tell OMRChecker which fields need to be joined together before outputting into 
      5-case of Concatenations - for two-digit integer type questions. Concatenating the two columns in the template("q5.1" and "q5.2") eases the answer checking in the csv.
"singles": 
      6-"singles":All the remaining fields(in order) whose readings shall be forwarded directly in the output csv
"qBlocks": 
         Each rectangular box you see in the template overlay image is an element of QBlock  a QBlock is either a rectangular box, or a grid of such boxes.
-each box need to define this parameter
     1- name of the QBlock
     2- "qType": qTypes are currently defined in template.py in the map qtype_data ( "QTYPE_MED"- "QTYPE_ROLL" -"QTYPE_INT")
     3- "orig": the top left starting point of QBlock
     4- "bigGaps": (bigGapX, bigGapY) are the gaps between origins of each box
     5-  "gaps": (gapX,gapY) are the gaps between rows and cols in a box i.e. gaps between the bubbles
     6- "qNos": qNos(nested array) defines the arrangement of questions in this QBlock
          example 
         [
            // each column mentioned below will have a distance of 'gapX' between them, and a vertical distance of 'gapY' between each bubbles
            "roll0",
            "roll1",
            "roll2",
            "roll3",
            "roll4",
            "roll5",
            "roll6",
            "roll7",
            "roll8"
          ]
      
      
     